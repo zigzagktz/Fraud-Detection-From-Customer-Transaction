{
 "cells": [
  {
   "cell_type": "code",
   "execution_count": 1,
   "metadata": {},
   "outputs": [],
   "source": [
    "import pandas as pd\n",
    "from IPython.display import display\n",
    "import matplotlib.pyplot as plt\n",
    "import datetime"
   ]
  },
  {
   "cell_type": "code",
   "execution_count": 2,
   "metadata": {},
   "outputs": [],
   "source": [
    "df_transaction = pd.read_csv('train_transaction.csv')\n"
   ]
  },
  {
   "cell_type": "code",
   "execution_count": null,
   "metadata": {},
   "outputs": [],
   "source": [
    "df_id = pd.read_csv(\"train_identity.csv\")"
   ]
  },
  {
   "cell_type": "code",
   "execution_count": null,
   "metadata": {},
   "outputs": [],
   "source": [
    "df_transaction_test = pd.read_csv(\"test_transaction.csv\")\n",
    "df_id_test = pd.read_csv(\"test_identity.csv\")"
   ]
  },
  {
   "cell_type": "code",
   "execution_count": null,
   "metadata": {},
   "outputs": [],
   "source": []
  },
  {
   "cell_type": "code",
   "execution_count": null,
   "metadata": {},
   "outputs": [],
   "source": [
    "train = df_transaction.merge(df_id, how='left', left_index=True, right_index=True)\n",
    "test = df_transaction_test.merge(df_id_test,how=\"left\",left_index=True,right_index=True)"
   ]
  },
  {
   "cell_type": "code",
   "execution_count": null,
   "metadata": {},
   "outputs": [],
   "source": [
    "del df_transaction, df_transaction_test, df_id, df_id_test"
   ]
  },
  {
   "cell_type": "code",
   "execution_count": null,
   "metadata": {},
   "outputs": [],
   "source": [
    "train.head()"
   ]
  },
  {
   "cell_type": "code",
   "execution_count": null,
   "metadata": {},
   "outputs": [],
   "source": [
    "isfraud = train.isFraud\n",
    "train = train.drop([\"TransactionID_x\",\"TransactionID_x\",\"isFraud\"],axis=1)"
   ]
  },
  {
   "cell_type": "code",
   "execution_count": null,
   "metadata": {},
   "outputs": [],
   "source": [
    "train[\"isFraud\"] = isfraud"
   ]
  },
  {
   "cell_type": "code",
   "execution_count": null,
   "metadata": {},
   "outputs": [],
   "source": [
    "test = test.drop([\"TransactionID_x\",\"TransactionID_x\"],axis=1)"
   ]
  },
  {
   "cell_type": "code",
   "execution_count": null,
   "metadata": {},
   "outputs": [],
   "source": []
  },
  {
   "cell_type": "code",
   "execution_count": null,
   "metadata": {},
   "outputs": [],
   "source": []
  },
  {
   "cell_type": "code",
   "execution_count": null,
   "metadata": {},
   "outputs": [],
   "source": []
  },
  {
   "cell_type": "code",
   "execution_count": null,
   "metadata": {},
   "outputs": [],
   "source": []
  },
  {
   "cell_type": "code",
   "execution_count": null,
   "metadata": {},
   "outputs": [],
   "source": []
  },
  {
   "cell_type": "code",
   "execution_count": null,
   "metadata": {},
   "outputs": [],
   "source": [
    "pd.options.display.max_columns = None\n",
    "df_transaction.head(2)"
   ]
  },
  {
   "cell_type": "code",
   "execution_count": null,
   "metadata": {},
   "outputs": [],
   "source": []
  },
  {
   "cell_type": "code",
   "execution_count": null,
   "metadata": {},
   "outputs": [],
   "source": []
  },
  {
   "cell_type": "code",
   "execution_count": null,
   "metadata": {},
   "outputs": [],
   "source": []
  },
  {
   "cell_type": "code",
   "execution_count": null,
   "metadata": {},
   "outputs": [],
   "source": [
    "class cleaning(object):\n",
    "    \n",
    "    def __init__(self,df):\n",
    "        self.all_na = df.isnull().sum()/df.shape[0]\n",
    "\n",
    "    def clean_na(self,df):\n",
    "        self.less_na = all_na[all_na < 0.90]\n",
    "        return df.loc[:,less_na]\n",
    "    \n",
    "    def subset(self,df,index):\n",
    "        return df.iloc[:,index]"
   ]
  },
  {
   "cell_type": "code",
   "execution_count": null,
   "metadata": {},
   "outputs": [],
   "source": [
    "# only small percentage of values are fraudalent.\n",
    "(df_transaction.isFraud.value_counts() / df_transaction.shape[0] ) *100"
   ]
  },
  {
   "cell_type": "code",
   "execution_count": null,
   "metadata": {},
   "outputs": [],
   "source": []
  },
  {
   "cell_type": "code",
   "execution_count": null,
   "metadata": {},
   "outputs": [],
   "source": [
    "#not removing columns simply because it has more NA\n",
    "#maybe more values in less number of rows can help us detect fraud\n",
    "#lets compare NAs in both tables fraud=0 and fraud=1\n",
    "df_isfraud_yes = df_transaction[df_transaction.isFraud==1]\n",
    "df_isfraud_no = df_transaction[df_transaction.isFraud==0]\n",
    "\n",
    "comparision = cleaning(df_isfraud_no)\n",
    "values_no = comparision.all_na.values\n",
    "comparision = cleaning(df_isfraud_yes)\n",
    "values_yes = comparision.all_na.values\n"
   ]
  },
  {
   "cell_type": "code",
   "execution_count": null,
   "metadata": {},
   "outputs": [],
   "source": [
    "# here I computed percentage of na values in both fradualant and non fraudalent dataframe\n",
    "# this procudeure was to identify if let's say whole columns had 90% missing values\n",
    "# but rest 10% belongs to fraudalent dataset. That is why this was important to analyse indipendently\n",
    "pd.set_option('display.max_rows', 500)\n",
    "values = pd.DataFrame(values_no,values_yes).reset_index(inplace=False)\n",
    "values.columns = [\"fraud_no\",\"fraud_yes\"]\n",
    "values[\"difference\"] = ((values.fraud_no - values.fraud_yes) / values.fraud_no ) * 100 \n",
    "values.difference[values.difference.isna()] = 0\n",
    "values = values[(values.difference >= 0) & (values.fraud_no < 0.50) & (values.fraud_yes < 0.50)]\n",
    "index_values = values.index\n",
    "index_values"
   ]
  },
  {
   "cell_type": "code",
   "execution_count": null,
   "metadata": {},
   "outputs": [],
   "source": [
    "# here I am calling the function subset in thr cleaning class\n",
    "comparision = cleaning(df_transaction)\n",
    "df_transaction = comparision.subset(df_transaction,index_values)\n",
    "df_transaction.head()"
   ]
  },
  {
   "cell_type": "code",
   "execution_count": null,
   "metadata": {},
   "outputs": [],
   "source": [
    "times=[]\n",
    "\n",
    "def time_conversion(df):\n",
    "    for i in range(df.shape[0]):\n",
    "        t = df.TransactionDT[i]\n",
    "        t = datetime.datetime.fromtimestamp( t )\n",
    "        t = t.replace()\n",
    "        times.append(t)\n",
    "    df.TransactionDT = times\n",
    "    return df\n",
    "\n",
    "df_transaction = time_conversion(df_transaction)\n",
    "df_transaction.head()"
   ]
  },
  {
   "cell_type": "code",
   "execution_count": null,
   "metadata": {},
   "outputs": [],
   "source": [
    "time = pd.Series( (round((df_transaction.TransactionDT /(60*60)))))"
   ]
  },
  {
   "cell_type": "code",
   "execution_count": null,
   "metadata": {},
   "outputs": [],
   "source": [
    "anomalies = pd.Series(df_transaction.isFraud)"
   ]
  },
  {
   "cell_type": "code",
   "execution_count": null,
   "metadata": {},
   "outputs": [],
   "source": [
    "time_anomiles = pd.concat([time,anomalies],axis=1)\n",
    "plt.plot(time_anomiles.)"
   ]
  },
  {
   "cell_type": "code",
   "execution_count": null,
   "metadata": {},
   "outputs": [],
   "source": [
    "time_anomiles = pd.concat([time,anomalies],axis=1)\n",
    "time_anomiles = time_anomiles.groupby(\"TransactionDT\").sum().reset_index()\n",
    "plt.figure(figsize=(15,7))\n",
    "plt.plot(time_anomiles.TransactionDT,time_anomiles.isFraud)\n"
   ]
  },
  {
   "cell_type": "code",
   "execution_count": null,
   "metadata": {},
   "outputs": [],
   "source": [
    "time_anomiles"
   ]
  },
  {
   "cell_type": "code",
   "execution_count": null,
   "metadata": {},
   "outputs": [],
   "source": [
    "import datetime\n",
    "t = 86458\n",
    "t = (datetime.datetime.fromtimestamp(t))\n",
    "t = t.replace()\n",
    "print(t)"
   ]
  },
  {
   "cell_type": "code",
   "execution_count": null,
   "metadata": {},
   "outputs": [],
   "source": [
    "df_transaction.head()"
   ]
  },
  {
   "cell_type": "code",
   "execution_count": null,
   "metadata": {},
   "outputs": [],
   "source": [
    "try1 = df_transaction.iloc[:,1:10]\n",
    "try1 = try1.drop(\"ProductCD\",axis=1)\n",
    "try1.head()\n",
    "\n",
    "for i in range(2,(try1.shape[1]  )):\n",
    "    try1.iloc[:,i] = try1.iloc[:,i].fillna(try1.iloc[:,i].median())\n",
    "\n",
    "try1.head()"
   ]
  },
  {
   "cell_type": "code",
   "execution_count": null,
   "metadata": {},
   "outputs": [],
   "source": [
    "try1 = try1.drop([\"card4\",\"isFraud\"],axis=1)\n",
    "try1.head()"
   ]
  },
  {
   "cell_type": "code",
   "execution_count": null,
   "metadata": {},
   "outputs": [],
   "source": [
    "try1[\"isFraud\"] = df_transaction.isFraud\n",
    "try1.head()"
   ]
  },
  {
   "cell_type": "code",
   "execution_count": 29,
   "metadata": {},
   "outputs": [],
   "source": [
    "import sklearn \n",
    "import pandas as pd\n",
    "from sklearn.linear_model import LogisticRegression\n",
    "from sklearn.ensemble import RandomForestClassifier\n",
    "from sklearn.metrics import accuracy_score, roc_curve, roc_auc_score, classification_report, confusion_matrix\n",
    "from imblearn.over_sampling import SMOTE\n",
    "from sklearn.model_selection import train_test_split, cross_validate, StratifiedKFold, GridSearchCV\n",
    "from sklearn.feature_selection import chi2, SelectKBest\n",
    "from sklearn.preprocessing import LabelEncoder\n",
    "import xgboost as xgb\n",
    "import statsmodels.api as stats\n",
    "import matplotlib.pyplot as plt\n",
    "import random \n",
    "\n",
    "class predictions(object):\n",
    "    \n",
    "    def __init__(self):\n",
    "        return\n",
    "    \n",
    "    def data_munging(df):\n",
    "        return\n",
    "    def visulizations(df):\n",
    "        return\n",
    "    \n",
    "    def boost_simple(df):\n",
    "        train_x,test_x , train_y,test_y = train_test_split(df.iloc[:,:-1],df.isFraud)\n",
    "        model = xgb.XGBClassifier()\n",
    "        learning_rate = [0.0001, 0.001, 0.01, 0.1, 0.2, 0.3]\n",
    "        param_grid = dict(learning_rate=learning_rate)\n",
    "        kfold = StratifiedKFold(n_splits=4, shuffle=True, random_state=7)\n",
    "        grid_search = GridSearchCV(model, param_grid, scoring=\"neg_log_loss\", n_jobs=-1, cv=kfold)\n",
    "        grid_result = grid_search.fit(train_x, train_y)\n",
    "        \n",
    "        print(\"Best: %f using %s\" % (grid_result.best_score_, grid_result.best_params_))\n",
    "        means = grid_result.cv_results_['mean_test_score']\n",
    "        stds = grid_result.cv_results_['std_test_score']\n",
    "        params = grid_result.cv_results_['params']\n",
    "        for mean, stdev, param in zip(means, stds, params):\n",
    "            print(\"%f (%f) with: %r\" % (mean, stdev, param))\n",
    "\n",
    "\n",
    "    def encoding(self,df):\n",
    "        self.obj = [columns for columns in df.columns if df[columns].dtypes==\"object\"]\n",
    "        le = LabelEncoder()\n",
    "        for col in self.obj:\n",
    "            df[col] = le.fit_transform(df[col].astype(\"str\").values)\n",
    "        return df\n",
    "    \n",
    "    def oversampeling(x,y):\n",
    "        smt = SMOTE()\n",
    "        x,y = smt.fit_sample(x,y)\n",
    "        return x,y\n",
    "    \n",
    "    def feature_selection(self,df,num_features):\n",
    "        df = df.fillna(0)\n",
    "        \n",
    "        best = SelectKBest(chi2,num_features)\n",
    "        fit = best.fit_transform(df.iloc[:,:-1],df.iloc[:,-1])\n",
    "        fit = pd.DataFrame(fit)\n",
    "        \n",
    "        #score = pd.DataFrame(fit.scores_)\n",
    "        #cols = pd.DataFrame(df.columns)\n",
    "        #fs = pd.concat([score,cols],axis=1)\n",
    "        #fs.columns = [\"score\",\"col\"]\n",
    "        #fs = fs.sort_values(\"score\",ascending=False)\n",
    "        #top = fs[\"col\"]\n",
    "        #df = df.loc[:,top]\n",
    "        return fit\n",
    "    \n",
    "    def normalize(self,df):\n",
    "        df_fraud = df[df.isFraud==1]\n",
    "        df_non_fraud = df[df.isFraud!=1]\n",
    "        \n",
    "        rand = random.sample(range(0,df_non_fraud.shape[0]),df_fraud.shape[0])\n",
    "        df_non_fraud = df_non_fraud.iloc[rand]\n",
    "        \n",
    "        return pd.concat([df_non_fraud,df_fraud])\n",
    "    \n",
    "    def boosting(self,df,classes):\n",
    "        df = df.fillna(0)\n",
    "        train_x,test_x , train_y,test_y = train_test_split(df,classes, test_size=0.25, random_state=36)\n",
    "        #smt = SMOTE()\n",
    "        #train_x,train_y = smt.fit_sample(train_x,train_y)\n",
    "        #train_x = pd.DataFrame(train_x)\n",
    "        #train_x.columns = test_x.columns\n",
    "        model = xgb.XGBClassifier(learning_rate =0.3,\n",
    "                 n_estimators=1000,\n",
    "                 max_depth=4,\n",
    "                 min_child_weight=6,\n",
    "                 gamma=0,\n",
    "                 subsample=0.8,\n",
    "                 colsample_bytree=0.8,\n",
    "                 objective= 'binary:logistic',\n",
    "                 nthread=4,\n",
    "                 scale_pos_weight=1,\n",
    "                 seed=27)\n",
    "        \n",
    "        \n",
    "        #cv = cross_validate(model,train_x,train_y)\n",
    "        \n",
    "        model.fit(train_x,train_y)\n",
    "        pred_prob = model.predict_proba(test_x)\n",
    "        pred_prob = pred_prob[:,1]\n",
    "        pred = model.predict(test_x)\n",
    "        acc = accuracy_score(test_y,pred)\n",
    "        \n",
    "        auc = roc_auc_score(test_y,pred)\n",
    "        fpr, tpr, therashold = roc_curve(test_y,pred_prob)\n",
    "        report = classification_report(pred,test_y)\n",
    "        con_mat = confusion_matrix(test_y,pred)\n",
    "        \n",
    "        return auc, fpr,tpr,therashold, report, acc, con_mat\n",
    "        \n",
    "        \n",
    "    \n",
    "    def logistic(self,df,classes):\n",
    "        df = df.fillna(0)\n",
    "        train_x,test_x , train_y,test_y = train_test_split(df,classes,random_state=57,test_size=0.25)\n",
    "        smt = SMOTE()\n",
    "        train_x,train_y = smt.fit_sample(train_x,train_y)\n",
    "        \n",
    "        model = LogisticRegression()\n",
    "        model.fit(train_x,train_y)\n",
    "        pred_prob = model.predict_proba(test_x)\n",
    "        pred_prob = pred_prob[:,1]\n",
    "        pred = model.predict(test_x)\n",
    "        acc = accuracy_score(test_y,pred)\n",
    "        \n",
    "        auc = roc_auc_score(test_y,pred)\n",
    "        fpr, tpr, therashold = roc_curve(test_y,pred_prob)\n",
    "        report = classification_report(pred,test_y)\n",
    "        con_mat = confusion_matrix(test_y,pred)\n",
    "        return auc, fpr,tpr,therashold, report, acc, con_mat\n",
    "\n",
    "    \n",
    "    def randomforest(self,df,classes):\n",
    "        df = df.fillna(0)\n",
    "        train_x,test_x , train_y,test_y = train_test_split(df,classes,random_state=57,test_size=0.3)\n",
    "        model = RandomForestClassifier(n_estimators=50,max_depth=3,random_state=0)\n",
    "        model.fit(train_x,train_y)\n",
    "        pred_prob = model.predict_proba(test_x)\n",
    "        pred_prob = pred_prob[:,1]\n",
    "        pred = model.predict(test_x)\n",
    "        acc = accuracy_score(test_y,pred)\n",
    "        \n",
    "        auc = roc_auc_score(test_y,pred)\n",
    "        fpr, tpr, therashold = roc_curve(test_y,pred_prob)\n",
    "        report = classification_report(pred,test_y)\n",
    "        con_mat = confusion_matrix(test_y,pred)\n",
    "        \n",
    "        return auc, fpr,tpr,therashold, report, acc, con_mat\n"
   ]
  },
  {
   "cell_type": "code",
   "execution_count": null,
   "metadata": {},
   "outputs": [],
   "source": [
    "df_transaction = df_transaction.drop([\"TransactionID\"],axis=1)"
   ]
  },
  {
   "cell_type": "code",
   "execution_count": null,
   "metadata": {},
   "outputs": [],
   "source": [
    "df_transaction = df_transaction.fillna(0)"
   ]
  },
  {
   "cell_type": "code",
   "execution_count": null,
   "metadata": {},
   "outputs": [],
   "source": [
    "df_transaction.head()"
   ]
  },
  {
   "cell_type": "code",
   "execution_count": null,
   "metadata": {},
   "outputs": [],
   "source": [
    "pred = predictions()\n",
    "\n",
    "df_transaction = pred.encoding(df_transaction)"
   ]
  },
  {
   "cell_type": "code",
   "execution_count": null,
   "metadata": {},
   "outputs": [],
   "source": [
    "import tensorflow as tf\n",
    "import pandas as pd\n",
    "import numpy as np\n",
    "import time\n",
    "from sklearn.datasets import load_iris\n",
    "from sklearn.model_selection import train_test_split\n",
    "\n",
    "\n",
    "x = df_transaction.iloc[:,17:30]\n",
    "y = df_transaction.isFraud\n",
    "y= pd.get_dummies(y).values\n",
    "train_x, test_x, train_y, test_y = train_test_split(x,y, test_size=0.25, random_state=28)\n",
    "\n",
    "numb_features = train_x.shape[1]\n",
    "numb_class = train_y.shape[1]\n",
    "\n",
    "X= tf.placeholder(tf.float32,[None,numb_features])\n",
    "Y_class = tf.placeholder(tf.float32,[None,numb_class])\n",
    "\n",
    "weights = tf.Variable(tf.zeros([numb_features,numb_class]))\n",
    "bais = tf.Variable(tf.zeros([1,numb_class]))\n",
    "\n",
    "matrix_multiplication = tf.matmul(X,weights)\n",
    "addition = tf.add(matrix_multiplication,bais)\n",
    "result  = tf.nn.sigmoid(addition)\n",
    "\n",
    "epocs = 500\n",
    "\n",
    "#learning_rate = tf.train.exponential_decay(learning_rate=0.1)\n",
    "cost = tf.nn.l2_loss(result - Y_class)\n",
    "\n",
    "training = tf.train.GradientDescentOptimizer(0.1).minimize(cost)\n",
    "\n",
    "correct_prediction = tf.equal(tf.argmax(result,1),tf.argmax(train_y,1))\n",
    "accuracy = tf.reduce_mean(tf.cast(correct_prediction, \"float\"))\n",
    "\n",
    "sess = tf.Session()\n",
    "init = tf.global_variables_initializer()\n",
    "sess.run(init)\n",
    "\n",
    "acc_values = []\n",
    "cost_values = []\n",
    "epoc = []\n",
    "old_cost = 0\n",
    "\n",
    "for i in range(epocs):\n",
    "    sess.run(training,feed_dict={X:train_x,Y_class:train_y})\n",
    "\n",
    "    if i%10==0:\n",
    "        epoc.append(i)\n",
    "        accu , costs = sess.run([accuracy,cost],feed_dict={X:train_x,Y_class:train_y}) \n",
    "\n",
    "        acc_values.append(accu)\n",
    "        cost_values.append(costs)\n",
    "\n",
    "        diff = abs(costs-old_cost)\n",
    "        old_cost = costs\n",
    "\n",
    "        print(\"step number {}, accuracy is {}, cost is {}, change in cost {}\".format(i,accu,costs,diff))\n",
    "\n",
    "#roc_curve(result, train_y)\n",
    "\n"
   ]
  },
  {
   "cell_type": "code",
   "execution_count": null,
   "metadata": {},
   "outputs": [],
   "source": [
    "print(\"final accuracy is {}\".format(sess.run(accuracy,feed_dict={X:test_x,Y_class:test_y})))"
   ]
  },
  {
   "cell_type": "code",
   "execution_count": 30,
   "metadata": {
    "scrolled": true
   },
   "outputs": [
    {
     "name": "stdout",
     "output_type": "stream",
     "text": [
      "area under the curve0.8833540233164474\n",
      "total accuracy0.8832752613240418\n",
      "confusion matrix is[[4617  522]\n",
      " [ 684 4509]] \\n \n",
      "              precision    recall  f1-score   support\n",
      "\n",
      "           0       0.90      0.87      0.88      5301\n",
      "           1       0.87      0.90      0.88      5031\n",
      "\n",
      "    accuracy                           0.88     10332\n",
      "   macro avg       0.88      0.88      0.88     10332\n",
      "weighted avg       0.88      0.88      0.88     10332\n",
      "\n"
     ]
    },
    {
     "data": {
      "text/plain": [
       "[<matplotlib.lines.Line2D at 0x1e5840054a8>]"
      ]
     },
     "execution_count": 30,
     "metadata": {},
     "output_type": "execute_result"
    },
    {
     "data": {
      "image/png": "[encoded data removed]",
      "text/plain": [
       "<Figure size 432x288 with 1 Axes>"
      ]
     },
     "metadata": {
      "needs_background": "light"
     },
     "output_type": "display_data"
    }
   ],
   "source": [
    "pred = predictions()\n",
    "#df = pred.feature_selection(c_only,8)\n",
    "#df[\"isFraud\"] = df_transaction.isFraud\n",
    "\n",
    "df = pred.normalize(df_transaction)\n",
    "\n",
    "df = pred.encoding(df)\n",
    "df = df.drop([\"isFraud\"],axis=1)\n",
    "\n",
    "#df = pred.feature_selection(df,100)\n",
    "df[\"isFraud\"] = df_transaction.isFraud\n",
    "\n",
    "\n",
    "auc, fpr,tpr,therashold, report, accuracy, con_mat = pred.boosting(df.iloc[:,:-1],df.isFraud)\n",
    "print(\"area under the curve{}\".format(auc))\n",
    "print(\"total accuracy{}\".format(accuracy))\n",
    "print(\"confusion matrix is{} \\\\n \".format(con_mat))\n",
    "print(report)\n",
    "plt.plot([0,1],[0,1],linestyle=\"--\")\n",
    "plt.plot(fpr,tpr)"
   ]
  },
  {
   "cell_type": "code",
   "execution_count": 9,
   "metadata": {},
   "outputs": [
    {
     "name": "stdout",
     "output_type": "stream",
     "text": [
      "area under the curve = 0.8112574417333316\n",
      "total accuracy = 0.8110723964382501\n",
      "confusion matrix is \n",
      " [[4351  788]\n",
      " [1164 4029]]  \n"
     ]
    }
   ],
   "source": [
    "print(\"area under the curve = {}\".format(auc))\n",
    "print(\"total accuracy = {}\".format(accuracy))\n",
    "print(\"confusion matrix is \\n {}  \".format(con_mat))"
   ]
  },
  {
   "cell_type": "code",
   "execution_count": null,
   "metadata": {},
   "outputs": [],
   "source": []
  },
  {
   "cell_type": "code",
   "execution_count": null,
   "metadata": {},
   "outputs": [],
   "source": [
    "from sklearn.preprocessing import LabelEncoder\n",
    "obj = [columns for columns in train.columns if train[columns].dtypes==\"object\"]\n",
    "le = LabelEncoder()\n",
    "for col in obj:\n",
    "    train[col] = le.fit_transform(train[col].astype(\"str\").values)"
   ]
  },
  {
   "cell_type": "code",
   "execution_count": null,
   "metadata": {},
   "outputs": [],
   "source": []
  },
  {
   "cell_type": "code",
   "execution_count": null,
   "metadata": {},
   "outputs": [],
   "source": []
  },
  {
   "cell_type": "code",
   "execution_count": null,
   "metadata": {},
   "outputs": [],
   "source": [
    "pred = predictions()\n",
    "df = pred.feature_selection(v_only.fillna(0),100)"
   ]
  },
  {
   "cell_type": "code",
   "execution_count": null,
   "metadata": {},
   "outputs": [],
   "source": [
    "best = SelectKBest(chi2,k=100)\n",
    "fit = best.fit_transform(v_only.iloc[:,:-1].fillna(0),v_only.iloc[:,-1])\n"
   ]
  },
  {
   "cell_type": "code",
   "execution_count": null,
   "metadata": {},
   "outputs": [],
   "source": [
    "learning_rate = [0.0001, 0.001, 0.01, 0.1, 0.2, 0.3]\n",
    "param_grid = dict(learning_rate=learning_rate)\n",
    "param_grid"
   ]
  },
  {
   "cell_type": "code",
   "execution_count": null,
   "metadata": {},
   "outputs": [],
   "source": [
    "predictions = predictions\n",
    "\n",
    "accuracy =  predictions.logistic(try1)\n",
    "accuracy"
   ]
  },
  {
   "cell_type": "code",
   "execution_count": null,
   "metadata": {},
   "outputs": [],
   "source": [
    "# cross check fraud and productCD\n",
    "\n",
    "pd.crosstab(df_transaction.isFraud,df_transaction.ProductCD)"
   ]
  },
  {
   "cell_type": "code",
   "execution_count": null,
   "metadata": {},
   "outputs": [],
   "source": [
    "test = pd.read_csv(\"test_transaction.csv\")"
   ]
  },
  {
   "cell_type": "code",
   "execution_count": null,
   "metadata": {},
   "outputs": [],
   "source": [
    "#there is difference between dimension reduction(PCA) and feature selection(RIDGE LASSO)\n",
    "# FEATURE SELECTION SHOULD BE PERFORMED IN EACH LOOP OF CROSS VALIDATION. \n",
    "#Do not perform feature selction only once and then use cross-validation, this will elad to overfitting.\n",
    "# correlation calclatino can also be helpful"
   ]
  },
  {
   "cell_type": "code",
   "execution_count": null,
   "metadata": {},
   "outputs": [],
   "source": [
    "a = [\"kshitiz\",\"sirohi\",\" itraz\"]\n",
    "b = \"it\"\n",
    "for i in a:\n",
    "    print(b in i)"
   ]
  },
  {
   "cell_type": "code",
   "execution_count": null,
   "metadata": {},
   "outputs": [],
   "source": [
    "c= \"C\"\n",
    "columns_c = df_transaction.iloc[:,[True for i in df_transaction.columns if c in i ]]"
   ]
  },
  {
   "cell_type": "code",
   "execution_count": null,
   "metadata": {},
   "outputs": [],
   "source": [
    "c_only.head()"
   ]
  },
  {
   "cell_type": "code",
   "execution_count": null,
   "metadata": {},
   "outputs": [],
   "source": [
    "try2 = df_transaction.iloc[:,10:]\n",
    "try2[\"isFraud\"] = df_transaction.isFraud"
   ]
  },
  {
   "cell_type": "code",
   "execution_count": null,
   "metadata": {},
   "outputs": [],
   "source": []
  },
  {
   "cell_type": "code",
   "execution_count": null,
   "metadata": {},
   "outputs": [],
   "source": [
    "try2.head()"
   ]
  },
  {
   "cell_type": "code",
   "execution_count": null,
   "metadata": {},
   "outputs": [],
   "source": [
    "\n",
    "c_only = try2.filter(like=\"C\")\n",
    "c_only[\"isFraud\"]= try2.isFraud\n",
    "\n",
    "d_only = try2.filter(like=\"D\")\n",
    "d_only[\"isFraud\"] = try2.isFraud\n",
    "d_only = d_only.fillna(0)\n",
    "\n",
    "m_only = try2.filter(like=\"M\")\n",
    "m_only[\"isFraud\"] = try2.isFraud\n",
    "m_only = m_only.fillna(0)\n",
    "\n",
    "v_only = try2.filter(like=\"V\")\n",
    "v_only[\"isFraud\"] =try2.isFraud\n",
    "v_only = v_only.fillna(0)"
   ]
  },
  {
   "cell_type": "code",
   "execution_count": null,
   "metadata": {},
   "outputs": [],
   "source": [
    "from sklearn.feature_selection import RFE\n",
    "from sklearn.linear_model import LogisticRegression\n",
    "from sklearn.metrics import accuracy_score, classification_report, roc_curve\n",
    "from sklearn.model_selection import train_test_split\n",
    "\n",
    "trainx, testx, trainy, testy = train_test_split(v_only.iloc[:,:-1],v_only.isFraud,test_size=.3)\n",
    "model = LogisticRegression()\n",
    "rfe = RFE(model,100)\n",
    "#rfe = rfe.fit(trainx,trainy)\n",
    "print(rfe.support_)\n",
    "\n",
    "#model.fit(trainx,trainy)\n",
    "#pred = model.predict(testx)\n",
    "#acc = accuracy_score(pred,testy)\n",
    "#acc"
   ]
  },
  {
   "cell_type": "code",
   "execution_count": null,
   "metadata": {},
   "outputs": [],
   "source": [
    "print(classification_report(testy,pred))"
   ]
  },
  {
   "cell_type": "code",
   "execution_count": null,
   "metadata": {},
   "outputs": [],
   "source": [
    "from sklearn.feature_selection import chi2, SelectKBest\n",
    "\n",
    "best = SelectKBest(chi2,4)\n",
    "fit = best.fit(c_only.iloc[:,:-1],c_only.iloc[:,-1])\n",
    "score = pd.DataFrame(fit.scores_)\n",
    "cols = pd.DataFrame(c_only.columns)\n",
    "fs = pd.concat([score,cols],axis=1)\n",
    "fs.columns = [\"score\",\"col\"]\n",
    "fs = fs.sort_values(\"score\",ascending=False)\n",
    "top100 = fs.head(30).col\n",
    "c_only = c_only.loc[:,top100]\n",
    "\n"
   ]
  },
  {
   "cell_type": "code",
   "execution_count": null,
   "metadata": {},
   "outputs": [],
   "source": [
    "v_only[\"isFraud\"]= df_transaction.isFraud"
   ]
  },
  {
   "cell_type": "code",
   "execution_count": null,
   "metadata": {},
   "outputs": [],
   "source": [
    "import numpy as np\n",
    "np.set_printoptions(suppress=True,formatter={'float_kind':'{:f}'.format})"
   ]
  },
  {
   "cell_type": "code",
   "execution_count": null,
   "metadata": {},
   "outputs": [],
   "source": [
    "train_x,test_x , train_y,test_y = train_test_split(c_only.iloc[:,:-1],c_only.isFraud)\n",
    "smt = SMOTE()\n",
    "train_x,train_y = smt.fit_sample(train_x,train_y)\n",
    "#model = xgb.XGBClassifier()\n",
    "#model.fit(train_x,train_y)\n",
    "#pred_prob = model.predict_proba(test_x)\n",
    "#pred_prob = pred_prob[:,1]\n",
    "#pred = model.predict(test_x)\n",
    "#acc = accuracy_score(test_y,pred)"
   ]
  },
  {
   "cell_type": "code",
   "execution_count": null,
   "metadata": {},
   "outputs": [],
   "source": [
    "acc"
   ]
  },
  {
   "cell_type": "code",
   "execution_count": null,
   "metadata": {},
   "outputs": [],
   "source": [
    "train_x = pd.DataFrame(train_x)\n",
    "train_x.columns= test_x.columns\n",
    "train_x"
   ]
  },
  {
   "cell_type": "code",
   "execution_count": null,
   "metadata": {},
   "outputs": [],
   "source": [
    "#train_x,test_x , train_y,test_y = train_test_split(train.iloc[:,:-1],train.isFraud)\n",
    "\n",
    "from sklearn.model_selection import train_test_split, cross_validate, StratifiedKFold, GridSearchCV\n",
    "from sklearn.feature_selection import chi2, SelectKBest\n",
    "import xgboost as xgb\n",
    "\n",
    "model = xgb.XGBClassifier()\n",
    "learning_rate = [0.0001, 0.001, 0.01, 0.1, 0.2, 0.3]\n",
    "param_grid = dict(learning_rate=learning_rate)\n",
    "kfold = StratifiedKFold(n_splits=4, shuffle=True, random_state=7)\n",
    "grid_search = GridSearchCV(model, param_grid, scoring=\"neg_log_loss\", n_jobs=-1, cv=kfold)\n",
    "grid_result = grid_search.fit(train.iloc[:,15:29], train.isFraud)\n",
    "\n",
    "print(\"Best: %f using %s\" % (grid_result.best_score_, grid_result.best_params_))\n",
    "means = grid_result.cv_results_['mean_test_score']\n",
    "stds = grid_result.cv_results_['std_test_score']\n",
    "params = grid_result.cv_results_['params']\n",
    "for mean, stdev, param in zip(means, stds, params):\n",
    "    print(\"%f (%f) with: %r\" % (mean, stdev, param))"
   ]
  },
  {
   "cell_type": "code",
   "execution_count": null,
   "metadata": {},
   "outputs": [],
   "source": [
    "train = train.fillna(0)\n",
    "best = SelectKBest(chi2,100)\n",
    "fit = best.fit_transform(train.iloc[:,:-1],train.iloc[:,-1])\n",
    "fit = pd.DataFrame(fit)"
   ]
  },
  {
   "cell_type": "code",
   "execution_count": null,
   "metadata": {},
   "outputs": [],
   "source": [
    "pred = predictions()\n",
    "x,y = pred.normalize(df_transaction)"
   ]
  },
  {
   "cell_type": "code",
   "execution_count": null,
   "metadata": {},
   "outputs": [],
   "source": [
    "d = pd.DataFrame({\"a\":[4,5,7,-3],\"b\":[\"a\",\"g\",\"g\",\"t\"]})\n",
    "d"
   ]
  },
  {
   "cell_type": "code",
   "execution_count": null,
   "metadata": {},
   "outputs": [],
   "source": [
    "p = pd.DataFrame({\"a\":[44,52,43,23],\"b\":[\"aw\",\"ge\",\"gg\",\"tr\"]})\n"
   ]
  },
  {
   "cell_type": "code",
   "execution_count": null,
   "metadata": {},
   "outputs": [],
   "source": [
    "c = pd.concat([d,p])\n",
    "c"
   ]
  },
  {
   "cell_type": "code",
   "execution_count": null,
   "metadata": {},
   "outputs": [],
   "source": [
    "c[c < 0 ]=0"
   ]
  },
  {
   "cell_type": "code",
   "execution_count": null,
   "metadata": {},
   "outputs": [],
   "source": [
    "df = pd.DataFrame({'a': [0, -1, 2], 'b': [-3, 2, 1],\n",
    "                           'c': ['foo', 'goo', 'bar']})\n",
    "df[df < 0] "
   ]
  },
  {
   "cell_type": "code",
   "execution_count": null,
   "metadata": {},
   "outputs": [],
   "source": [
    "df[df < 0].sum(x)"
   ]
  }
 ],
 "metadata": {
  "kernelspec": {
   "display_name": "Python 3",
   "language": "python",
   "name": "python3"
  },
  "language_info": {
   "codemirror_mode": {
    "name": "ipython",
    "version": 3
   },
   "file_extension": ".py",
   "mimetype": "text/x-python",
   "name": "python",
   "nbconvert_exporter": "python",
   "pygments_lexer": "ipython3",
   "version": "3.7.1"
  }
 },
 "nbformat": 4,
 "nbformat_minor": 2
}
